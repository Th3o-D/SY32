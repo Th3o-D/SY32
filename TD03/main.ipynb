{
 "cells": [
  {
   "cell_type": "code",
   "execution_count": 9,
   "metadata": {},
   "outputs": [],
   "source": [
    "import numpy as np\n",
    "import matplotlib.pyplot as plt\n",
    "from catClassifier import CatClassifier"
   ]
  },
  {
   "cell_type": "markdown",
   "metadata": {},
   "source": [
    "### Q1"
   ]
  },
  {
   "cell_type": "code",
   "execution_count": 10,
   "metadata": {},
   "outputs": [],
   "source": [
    "X = np.loadtxt('cat_data_X.csv', ndmin=2)\n",
    "y = np.loadtxt('cat_data_y.csv')"
   ]
  },
  {
   "cell_type": "markdown",
   "metadata": {},
   "source": [
    "### Q2"
   ]
  },
  {
   "cell_type": "code",
   "execution_count": 11,
   "metadata": {},
   "outputs": [
    {
     "name": "stdout",
     "output_type": "stream",
     "text": [
      "y_train: (300,)\n",
      "-1 count : 101, 1 count : 199\n"
     ]
    },
    {
     "data": {
      "image/png": "[encoded data removed]",
      "text/plain": [
       "<Figure size 640x480 with 1 Axes>"
      ]
     },
     "metadata": {},
     "output_type": "display_data"
    },
    {
     "name": "stdout",
     "output_type": "stream",
     "text": [
      "min : 1.7, max : 8.53, median : 5.51\n",
      "min 1 : 3.21, max 1 : 8.53, median 1 : 6.1\n",
      "min -1 : 1.7, max -1 : 6.19, median -1 : 4.08\n"
     ]
    }
   ],
   "source": [
    "# statistiques sur y\n",
    "print('y_train:', y.shape)\n",
    "\n",
    "# nombres de -1 et de 1\n",
    "n_moins1 = np.sum(y == -1)\n",
    "n_plus1 = np.sum(y == 1)\n",
    "print(f\"-1 count : {n_moins1}, 1 count : {n_plus1}\")\n",
    "\n",
    "# pie chart\n",
    "labels = '-1', '1'\n",
    "sizes = [n_moins1, n_plus1]\n",
    "colors = ['gold', 'yellowgreen']\n",
    "plt.pie(sizes, labels=labels, colors=colors,\n",
    "autopct='%1.1f%%', startangle=140)\n",
    "plt.axis('equal')\n",
    "plt.show()\n",
    "\n",
    "print(f\"min : {np.min(X)}, max : {np.max(X)}, median : {np.median(X)}\")\n",
    "\n",
    "X_1 = X[y == 1]\n",
    "X_m1 = X[y == -1]\n",
    "\n",
    "print(f\"min 1 : {np.min(X_1)}, max 1 : {np.max(X_1)}, median 1 : {np.median(X_1)}\")\n",
    "print(f\"min -1 : {np.min(X_m1)}, max -1 : {np.max(X_m1)}, median -1 : {np.median(X_m1)}\")"
   ]
  },
  {
   "cell_type": "markdown",
   "metadata": {},
   "source": [
    "### Q4"
   ]
  },
  {
   "cell_type": "code",
   "execution_count": 12,
   "metadata": {},
   "outputs": [
    {
     "name": "stdout",
     "output_type": "stream",
     "text": [
      "[-1  1  1 -1 -1  1  1 -1  1 -1 -1  1  1  1  1  1 -1  1  1  1  1 -1  1  1\n",
      " -1 -1 -1  1  1 -1 -1  1  1  1  1  1  1  1 -1 -1 -1  1  1 -1 -1  1 -1  1\n",
      "  1 -1  1  1 -1  1 -1 -1 -1  1  1 -1  1 -1 -1 -1 -1  1 -1  1  1  1 -1  1\n",
      "  1  1  1  1  1  1  1 -1  1  1  1 -1  1  1 -1  1 -1 -1 -1 -1  1 -1 -1 -1\n",
      " -1  1 -1  1  1 -1 -1 -1  1 -1 -1 -1 -1 -1 -1  1  1  1  1  1 -1 -1  1  1\n",
      "  1  1  1 -1  1  1  1 -1 -1  1 -1  1 -1  1 -1  1  1  1  1  1 -1  1 -1 -1\n",
      " -1  1  1  1  1  1  1 -1  1  1 -1 -1  1  1  1 -1  1  1  1  1 -1 -1  1  1\n",
      "  1 -1  1  1  1 -1 -1  1 -1 -1  1 -1 -1  1 -1  1 -1 -1  1  1  1  1 -1  1\n",
      "  1 -1  1  1  1  1  1 -1  1 -1 -1  1  1 -1  1 -1 -1  1  1  1  1  1  1  1\n",
      "  1  1 -1  1  1 -1 -1  1 -1 -1  1  1  1 -1 -1  1 -1  1  1  1  1 -1  1  1\n",
      "  1 -1  1 -1  1  1  1  1 -1  1 -1  1 -1  1  1 -1 -1  1  1  1  1  1 -1 -1\n",
      "  1 -1  1  1  1 -1  1 -1  1  1  1  1  1  1  1  1  1 -1 -1 -1 -1  1  1 -1\n",
      " -1  1  1  1  1 -1  1  1 -1 -1  1 -1]\n"
     ]
    }
   ],
   "source": [
    "clf = CatClassifier()\n",
    "print(clf.predict(X, 5))"
   ]
  },
  {
   "cell_type": "markdown",
   "metadata": {},
   "source": [
    "### Q6"
   ]
  },
  {
   "cell_type": "code",
   "execution_count": 13,
   "metadata": {},
   "outputs": [
    {
     "name": "stdout",
     "output_type": "stream",
     "text": [
      "0.15333333333333332\n"
     ]
    }
   ],
   "source": [
    "print(clf.err_emp(X, y, 5))"
   ]
  },
  {
   "cell_type": "markdown",
   "metadata": {},
   "source": [
    "### Q8 & Q9"
   ]
  },
  {
   "cell_type": "code",
   "execution_count": 14,
   "metadata": {},
   "outputs": [
    {
     "name": "stdout",
     "output_type": "stream",
     "text": [
      "[4.32]\n",
      "0.13666666666666666\n"
     ]
    }
   ],
   "source": [
    "clf = CatClassifier()\n",
    "\n",
    "clf.fit(X, y)\n",
    "print(clf.h_hat)\n",
    "print(clf.err_emp(X, y))"
   ]
  },
  {
   "cell_type": "markdown",
   "metadata": {},
   "source": [
    "### Q11"
   ]
  },
  {
   "cell_type": "code",
   "execution_count": 15,
   "metadata": {},
   "outputs": [
    {
     "data": {
      "text/plain": [
       "(4.78,\n",
       " [0.4666666666666667,\n",
       "  0.16666666666666666,\n",
       "  0.06666666666666667,\n",
       "  0.16666666666666666,\n",
       "  0.15])"
      ]
     },
     "execution_count": 15,
     "metadata": {},
     "output_type": "execute_result"
    }
   ],
   "source": [
    "def cross_val(x, y, n_class):\n",
    "    x=x.flatten()\n",
    "    classes = np.split(np.array([x, y]), n_class, axis=1)\n",
    "    losses = []\n",
    "    h_hats = []\n",
    "\n",
    "    for i, val_set in enumerate(classes):\n",
    "        train_set = [class_j for j, class_j in enumerate(classes) if i!=j]\n",
    "\n",
    "        train_set = np.concatenate(train_set)\n",
    "\n",
    "        classifier = CatClassifier()\n",
    "        classifier.fit(train_set[0,:], train_set[1,:])\n",
    "        losses.append(classifier.err_emp(val_set[0,:], val_set[1,:]))\n",
    "        h_hats.append(classifier.h_hat)\n",
    "\n",
    "    h_hat = np.mean(h_hats)\n",
    "\n",
    "    return h_hat, losses\n",
    "        \n",
    "cross_val(X, y, 5)"
   ]
  },
  {
   "cell_type": "markdown",
   "metadata": {},
   "source": [
    "### Q12 & Q13"
   ]
  },
  {
   "cell_type": "code",
   "execution_count": 16,
   "metadata": {},
   "outputs": [
    {
     "name": "stdout",
     "output_type": "stream",
     "text": [
      "4.78\n",
      "5.245\n",
      "4.840666666666667\n",
      "4.975499999999999\n"
     ]
    }
   ],
   "source": [
    "from sklearn.model_selection import KFold, ShuffleSplit, StratifiedKFold, StratifiedShuffleSplit\n",
    "\n",
    "# Create a k-fold cross validation iterator\n",
    "kf = KFold(n_splits=5)\n",
    "ss = ShuffleSplit(n_splits=5)\n",
    "skf = StratifiedKFold(n_splits=5)\n",
    "sss = StratifiedShuffleSplit(n_splits=5)\n",
    "\n",
    "# Perform k-fold cross validation\n",
    "losses = []\n",
    "h_hats = []\n",
    "\n",
    "for split in [kf, ss, skf, sss]:\n",
    "    for train_index, val_index in split.split(X, y):\n",
    "        clf = CatClassifier()\n",
    "        X_train, X_val = X[train_index], X[val_index]\n",
    "        y_train, y_val = y[train_index], y[val_index]\n",
    "\n",
    "        clf.fit(X_train, y_train)\n",
    "        losses.append(clf.err_emp(X_val, y_val))\n",
    "        h_hats.append(clf.h_hat)\n",
    "\n",
    "    print(np.mean(h_hats))"
   ]
  }
 ],
 "metadata": {
  "kernelspec": {
   "display_name": "Python 3",
   "language": "python",
   "name": "python3"
  },
  "language_info": {
   "codemirror_mode": {
    "name": "ipython",
    "version": 3
   },
   "file_extension": ".py",
   "mimetype": "text/x-python",
   "name": "python",
   "nbconvert_exporter": "python",
   "pygments_lexer": "ipython3",
   "version": "3.10.12"
  }
 },
 "nbformat": 4,
 "nbformat_minor": 2
}
